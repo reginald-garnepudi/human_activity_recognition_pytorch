{
 "cells": [
  {
   "cell_type": "markdown",
   "metadata": {},
   "source": [
    "# Human Activity Recognition using PyTorch\n",
    "\n",
    "This is an exercise to implement a few deep learning models for recognising human activities (like walking, standing, etc) from sensor data (accelerometer and gyroscope) collected from mobile phones.\n",
    "\n",
    "We use Jason Brownlee's tutorial (https://machinelearningmastery.com/cnn-models-for-human-activity-recognition-time-series-classification/) as a source of inspiration and look to implement the models in PyTorch.\n",
    "\n",
    "\n",
    "## The Dataset\n",
    "\n",
    "As the tutorial suggests, we are going to use the same dataset - [Human Activity Recognition Using Smartphones Data Set, UCI Machine Learning Repository](https://archive.ics.uci.edu/ml/datasets/human+activity+recognition+using+smartphones)\n",
    "\n",
    "\n",
    "The dataset contains sensor data recorded for the following activities:\n",
    "\n",
    "    Walking\n",
    "    Walking Upstairs\n",
    "    Walking Downstairs\n",
    "    Sitting\n",
    "    Standing\n",
    "    Laying\n",
    "\n",
    "The sensor data is made up of accelerometer data (x,y and z) and gyroscope data (angular velocity), with observations recorded at 50Hz.\n",
    "\n",
    "Please refer to Jason's article above for a detailed description of the dataset, but in summary, the data is already pre-processes and split into windows of 128 data points (2.56 seconds) with a 50% overlap between adjacent rows.\n",
    "\n",
    "The dataset contains a bunch of engineered features, but for this exercise we will only use three sets of raw features:\n",
    "    body acceleration (x,y,z)\n",
    "    body gyroscope (x,y,z)\n",
    "    total acceleration(x,y,z)\n",
    "    \n",
    "That is, 9 features for every observation of 128 data points.\n",
    "\n",
    "The first step is to load the data and see what it looks like"
   ]
  },
  {
   "cell_type": "code",
   "execution_count": 1,
   "metadata": {
    "scrolled": true
   },
   "outputs": [],
   "source": [
    "# All the imports in one place\n",
    "import os\n",
    "import numpy as np\n",
    "import pandas as pd\n",
    "import torch\n",
    "import torch.nn as nn\n",
    "from torch.nn import Conv1d, Conv2d, Sequential, ModuleList, BatchNorm2d\n",
    "import torch.nn.functional as F\n",
    "from torch.utils.data import Dataset, DataLoader\n",
    "import torch.optim as optim\n",
    "import torchvision\n",
    "from torchvision import transforms\n",
    "\n",
    "from sklearn.metrics import confusion_matrix\n",
    "import seaborn as sns\n",
    "\n",
    "import matplotlib.pyplot as plt\n",
    "\n",
    "# Setting the random seed to make sure results are consistent.\n",
    "# torch.manual_seed(42)"
   ]
  },
  {
   "cell_type": "code",
   "execution_count": 2,
   "metadata": {
    "scrolled": true
   },
   "outputs": [],
   "source": [
    "class HARDataLoader:\n",
    "    def __init__(self, data_root):\n",
    "        self.data_root = data_root\n",
    "        \n",
    "    def pre_operation(self, **kwargs):\n",
    "        pass\n",
    "    \n",
    "    def post_operation(self, **kwargs):\n",
    "        X = kwargs.get(\"X\", None)\n",
    "        y = kwargs.get(\"y\", None)\n",
    "        return X, y\n",
    "       \n",
    "\n",
    "    # load a single file as a numpy array\n",
    "    def load_file(self, filepath):\n",
    "        dataframe = pd.read_csv(filepath, header=None, delim_whitespace=True)\n",
    "        return dataframe.values\n",
    "\n",
    "    # load a list of files into a 3D array of [samples, timesteps, features]\n",
    "    def load_group(self, filenames, prefix=''):\n",
    "        loaded = list()\n",
    "        for name in filenames:\n",
    "            data = self.load_file(prefix + name)\n",
    "            loaded.append(data)\n",
    "        \n",
    "        # stack group so that features are the 3rd dimension\n",
    "#         loaded = np.dstack(loaded)\n",
    "#         return loaded\n",
    "        return np.array(loaded).transpose(1,0,2)\n",
    "\n",
    "    # load a dataset group, such as train or test\n",
    "    def load_dataset_group(self, group):\n",
    "        filepath = os.path.join(self.data_root, group, 'Inertial Signals/')\n",
    "        # load all 9 files as a single array\n",
    "        filenames = list()\n",
    "        # total acceleration\n",
    "        filenames += ['total_acc_x_'+group+'.txt', 'total_acc_y_'+group+'.txt', 'total_acc_z_'+group+'.txt']\n",
    "        # body acceleration\n",
    "        filenames += ['body_acc_x_'+group+'.txt', 'body_acc_y_'+group+'.txt', 'body_acc_z_'+group+'.txt']\n",
    "        # body gyroscope\n",
    "        filenames += ['body_gyro_x_'+group+'.txt', 'body_gyro_y_'+group+'.txt', 'body_gyro_z_'+group+'.txt']\n",
    "        # load input data\n",
    "        X = self.load_group(filenames, filepath)\n",
    "        # load class output\n",
    "        y = self.load_file(os.path.join(self.data_root, group, 'y_'+group+'.txt'))\n",
    "        return X, y\n",
    "\n",
    "    # load the dataset, returns train and test X and y elements\n",
    "    def load_dataset(self, **kwargs):\n",
    "        \n",
    "        train_test = kwargs.get(\"train_test\", \"train\")\n",
    "        \n",
    "        self.pre_operation(**kwargs)\n",
    "        \n",
    "        # load all train\n",
    "        X, y = self.load_dataset_group(train_test)\n",
    "        # reshape to channel first shape\n",
    "#         X = X.reshape(-1, 9, 128)\n",
    "        \n",
    "        # zero-offset class values\n",
    "        y = y - 1\n",
    "        \n",
    "        X, y = self.post_operation(X=X, y=y)\n",
    "        \n",
    "        return X, y\n",
    "    \n",
    "    def load_labels(self):\n",
    "        labels_file = os.path.join(self.data_root, 'activity_labels.txt')\n",
    "        return list(pd.read_csv(labels_file, header=None, delim_whitespace=True)[1].array)\n",
    "\n",
    "    def to_categorical(self, y, num_classes):\n",
    "        \"\"\" 1-hot encodes a tensor \"\"\"\n",
    "        return np.eye(num_classes, dtype='uint8')[y]"
   ]
  },
  {
   "cell_type": "markdown",
   "metadata": {},
   "source": [
    "### Test the HARDataLoader"
   ]
  },
  {
   "cell_type": "code",
   "execution_count": 167,
   "metadata": {
    "scrolled": true
   },
   "outputs": [
    {
     "name": "stdout",
     "output_type": "stream",
     "text": [
      "Training Data: (7352, 9, 128) (7352, 1)\n",
      "Testing Data: (2947, 9, 128) (2947, 1)\n"
     ]
    }
   ],
   "source": [
    "dl = HARDataLoader('./UCI_HAR_Dataset')\n",
    "\n",
    "# Load the dataset\n",
    "train_X, train_y = dl.load_dataset(train_test='train') \n",
    "test_X, test_y = dl.load_dataset(train_test='test')\n",
    "\n",
    "\n",
    "print(\"Training Data:\", train_X.shape, train_y.shape)\n",
    "print(\"Testing Data:\", test_X.shape, test_y.shape)"
   ]
  },
  {
   "cell_type": "code",
   "execution_count": 168,
   "metadata": {
    "scrolled": true
   },
   "outputs": [
    {
     "data": {
      "text/plain": [
       "array([[[ 1.012817e+00,  1.022833e+00,  1.022028e+00, ...,\n",
       "          1.018445e+00,  1.019372e+00,  1.021171e+00],\n",
       "        [-1.232167e-01, -1.268756e-01, -1.240037e-01, ...,\n",
       "         -1.240696e-01, -1.227451e-01, -1.213260e-01],\n",
       "        [ 1.029341e-01,  1.056872e-01,  1.021025e-01, ...,\n",
       "          1.003852e-01,  9.987355e-02,  9.498741e-02],\n",
       "        ...,\n",
       "        [ 3.019122e-02,  4.371071e-02,  3.568780e-02, ...,\n",
       "          3.985177e-02,  3.744932e-02,  2.881781e-02],\n",
       "        [ 6.601362e-02,  4.269897e-02,  7.485018e-02, ...,\n",
       "          1.909445e-03, -7.982483e-05, -3.771800e-05],\n",
       "        [ 2.285864e-02,  1.031572e-02,  1.324969e-02, ...,\n",
       "         -2.170124e-03, -5.642633e-03, -1.446006e-03]],\n",
       "\n",
       "       [[ 1.018851e+00,  1.022380e+00,  1.020781e+00, ...,\n",
       "          1.014788e+00,  1.016499e+00,  1.017849e+00],\n",
       "        [-1.239760e-01, -1.268078e-01, -1.277862e-01, ...,\n",
       "         -1.290268e-01, -1.264244e-01, -1.305193e-01],\n",
       "        [ 9.792958e-02,  9.935086e-02,  9.811381e-02, ...,\n",
       "          9.353520e-02,  8.903516e-02,  9.061235e-02],\n",
       "        ...,\n",
       "        [ 1.711106e-02,  2.417851e-02,  3.022889e-02, ...,\n",
       "         -3.474078e-02, -3.797305e-02, -3.864973e-02],\n",
       "        [ 6.122797e-03,  9.710357e-03,  1.032192e-02, ...,\n",
       "         -8.694754e-03, -1.165249e-02, -9.440197e-03],\n",
       "        [ 1.226815e-02,  1.614958e-02,  1.589471e-02, ...,\n",
       "          5.044730e-03, -4.424329e-03, -2.797817e-03]],\n",
       "\n",
       "       [[ 1.023127e+00,  1.021882e+00,  1.019178e+00, ...,\n",
       "          1.021041e+00,  1.022935e+00,  1.022019e+00],\n",
       "        [-1.200157e-01, -1.214994e-01, -1.228407e-01, ...,\n",
       "         -1.308757e-01, -1.312099e-01, -1.301826e-01],\n",
       "        [ 9.111667e-02,  9.267560e-02,  9.606378e-02, ...,\n",
       "          8.301135e-02,  8.233391e-02,  8.148748e-02],\n",
       "        ...,\n",
       "        [ 2.618877e-02,  2.165149e-02,  1.455062e-02, ...,\n",
       "         -2.090983e-02, -2.211369e-02, -2.023537e-02],\n",
       "        [-2.383410e-04, -4.275982e-04,  7.611350e-04, ...,\n",
       "         -1.005391e-02, -9.717281e-03, -8.831462e-03],\n",
       "        [ 2.158897e-03, -2.724752e-04,  2.630986e-03, ...,\n",
       "         -5.566286e-03, -3.701625e-03, -2.644745e-03]],\n",
       "\n",
       "       ...,\n",
       "\n",
       "       [[ 7.548917e-01,  8.043137e-01,  8.317140e-01, ...,\n",
       "          6.956257e-01,  7.479103e-01,  7.767680e-01],\n",
       "        [-1.711829e-01, -1.999375e-01, -2.319457e-01, ...,\n",
       "         -2.217656e-01, -2.811496e-01, -3.275988e-01],\n",
       "        [ 1.745865e-01,  2.324243e-01,  2.576066e-01, ...,\n",
       "          1.112952e-01,  1.263023e-01,  1.886212e-01],\n",
       "        ...,\n",
       "        [ 1.183561e-01,  1.378901e-01,  1.774201e-01, ...,\n",
       "         -7.609545e-01, -6.779630e-01, -6.275012e-01],\n",
       "        [ 4.267019e-01,  3.223201e-01,  2.331586e-01, ...,\n",
       "          6.840804e-01,  6.291636e-01,  4.812542e-01],\n",
       "        [ 3.008475e-01,  3.511780e-01,  2.723513e-01, ...,\n",
       "          2.543444e-01,  2.814308e-01,  2.542062e-01]],\n",
       "\n",
       "       [[ 9.279268e-01,  9.129872e-01,  9.246597e-01, ...,\n",
       "          6.753473e-01,  6.603377e-01,  7.193530e-01],\n",
       "        [-2.238010e-01, -2.210407e-01, -1.839923e-01, ...,\n",
       "         -1.620087e-01, -2.020367e-01, -2.291273e-01],\n",
       "        [ 2.628140e-01,  2.954154e-01,  3.376098e-01, ...,\n",
       "          1.289247e-01,  1.722512e-01,  2.100712e-01],\n",
       "        ...,\n",
       "        [-3.788723e-01, -3.738884e-01, -3.301252e-01, ...,\n",
       "         -4.254607e-01, -4.755471e-01, -4.129589e-01],\n",
       "        [ 1.642781e-01,  6.393670e-02, -9.430612e-02, ...,\n",
       "          6.504409e-01,  4.097342e-01,  1.998230e-01],\n",
       "        [ 2.175042e-01,  1.584971e-01,  1.868787e-01, ...,\n",
       "          1.762117e-01,  1.635609e-01,  1.887340e-01]],\n",
       "\n",
       "       [[ 7.980909e-01,  8.192417e-01,  8.658821e-01, ...,\n",
       "          8.980947e-01,  8.283723e-01,  8.002428e-01],\n",
       "        [-3.060512e-01, -2.666046e-01, -2.053607e-01, ...,\n",
       "         -3.977751e-01, -3.492473e-01, -3.323721e-01],\n",
       "        [ 2.093865e-01,  2.310711e-01,  3.341906e-01, ...,\n",
       "         -1.561050e-01, -1.227979e-01, -8.357159e-02],\n",
       "        ...,\n",
       "        [-4.767788e-01, -2.679120e-01, -1.905664e-01, ...,\n",
       "          1.004855e+00,  1.015589e+00,  1.047599e+00],\n",
       "        [ 2.889329e-01,  1.712000e-01,  1.424723e-01, ...,\n",
       "          1.156645e+00,  1.100750e+00,  1.011324e+00],\n",
       "        [ 2.277976e-01,  1.034757e-01, -7.565458e-02, ...,\n",
       "         -3.625121e-01, -3.839895e-01, -3.358840e-01]]])"
      ]
     },
     "execution_count": 168,
     "metadata": {},
     "output_type": "execute_result"
    }
   ],
   "source": [
    "train_X"
   ]
  },
  {
   "cell_type": "code",
   "execution_count": 162,
   "metadata": {
    "scrolled": false
   },
   "outputs": [
    {
     "data": {
      "text/plain": [
       "(9, 3, 4)"
      ]
     },
     "execution_count": 162,
     "metadata": {},
     "output_type": "execute_result"
    }
   ],
   "source": [
    "np.array(train_X).shape"
   ]
  },
  {
   "cell_type": "code",
   "execution_count": 163,
   "metadata": {},
   "outputs": [
    {
     "data": {
      "text/plain": [
       "array([[[1. , 1.1, 1.2, 1.3],\n",
       "        [1. , 1.1, 1.2, 1.3],\n",
       "        [1. , 1.1, 1.2, 1.3],\n",
       "        [1. , 1.1, 1.2, 1.3],\n",
       "        [1. , 1.1, 1.2, 1.3],\n",
       "        [1. , 1.1, 1.2, 1.3],\n",
       "        [1. , 1.1, 1.2, 1.3],\n",
       "        [1. , 1.1, 1.2, 1.3],\n",
       "        [1. , 1.1, 1.2, 1.3]],\n",
       "\n",
       "       [[2. , 2.1, 2.2, 2.3],\n",
       "        [2. , 2.1, 2.2, 2.3],\n",
       "        [2. , 2.1, 2.2, 2.3],\n",
       "        [2. , 2.1, 2.2, 2.3],\n",
       "        [2. , 2.1, 2.2, 2.3],\n",
       "        [2. , 2.1, 2.2, 2.3],\n",
       "        [2. , 2.1, 2.2, 2.3],\n",
       "        [2. , 2.1, 2.2, 2.3],\n",
       "        [2. , 2.1, 2.2, 2.3]],\n",
       "\n",
       "       [[3. , 3.1, 3.2, 3.3],\n",
       "        [3. , 3.1, 3.2, 3.3],\n",
       "        [3. , 3.1, 3.2, 3.3],\n",
       "        [3. , 3.1, 3.2, 3.3],\n",
       "        [3. , 3.1, 3.2, 3.3],\n",
       "        [3. , 3.1, 3.2, 3.3],\n",
       "        [3. , 3.1, 3.2, 3.3],\n",
       "        [3. , 3.1, 3.2, 3.3],\n",
       "        [3. , 3.1, 3.2, 3.3]]])"
      ]
     },
     "execution_count": 163,
     "metadata": {},
     "output_type": "execute_result"
    }
   ],
   "source": [
    "np.array(train_X).transpose(1,0,2)"
   ]
  },
  {
   "cell_type": "code",
   "execution_count": 151,
   "metadata": {
    "scrolled": true
   },
   "outputs": [
    {
     "data": {
      "text/plain": [
       "array([[[1. , 1. , 1. , 1. ],\n",
       "        [1. , 1. , 1. , 1. ],\n",
       "        [1. , 1.1, 1.1, 1.1],\n",
       "        [1.1, 1.1, 1.1, 1.1],\n",
       "        [1.1, 1.1, 1.2, 1.2],\n",
       "        [1.2, 1.2, 1.2, 1.2],\n",
       "        [1.2, 1.2, 1.2, 1.3],\n",
       "        [1.3, 1.3, 1.3, 1.3],\n",
       "        [1.3, 1.3, 1.3, 1.3]],\n",
       "\n",
       "       [[2. , 2. , 2. , 2. ],\n",
       "        [2. , 2. , 2. , 2. ],\n",
       "        [2. , 2.1, 2.1, 2.1],\n",
       "        [2.1, 2.1, 2.1, 2.1],\n",
       "        [2.1, 2.1, 2.2, 2.2],\n",
       "        [2.2, 2.2, 2.2, 2.2],\n",
       "        [2.2, 2.2, 2.2, 2.3],\n",
       "        [2.3, 2.3, 2.3, 2.3],\n",
       "        [2.3, 2.3, 2.3, 2.3]],\n",
       "\n",
       "       [[3. , 3. , 3. , 3. ],\n",
       "        [3. , 3. , 3. , 3. ],\n",
       "        [3. , 3.1, 3.1, 3.1],\n",
       "        [3.1, 3.1, 3.1, 3.1],\n",
       "        [3.1, 3.1, 3.2, 3.2],\n",
       "        [3.2, 3.2, 3.2, 3.2],\n",
       "        [3.2, 3.2, 3.2, 3.3],\n",
       "        [3.3, 3.3, 3.3, 3.3],\n",
       "        [3.3, 3.3, 3.3, 3.3]]])"
      ]
     },
     "execution_count": 151,
     "metadata": {},
     "output_type": "execute_result"
    }
   ],
   "source": [
    "np.dstack(train_X).reshape(-1,9,4)"
   ]
  },
  {
   "cell_type": "code",
   "execution_count": 136,
   "metadata": {},
   "outputs": [
    {
     "data": {
      "text/plain": [
       "array([[[1. , 1. , 1. ],\n",
       "        [1. , 1. , 1. ],\n",
       "        [1. , 1. , 1. ],\n",
       "        [1.1, 1.1, 1.1],\n",
       "        [1.1, 1.1, 1.1],\n",
       "        [1.1, 1.1, 1.1],\n",
       "        [1.2, 1.2, 1.2],\n",
       "        [1.2, 1.2, 1.2],\n",
       "        [1.2, 1.2, 1.2]],\n",
       "\n",
       "       [[1.3, 1.3, 1.3],\n",
       "        [1.3, 1.3, 1.3],\n",
       "        [1.3, 1.3, 1.3],\n",
       "        [2. , 2. , 2. ],\n",
       "        [2. , 2. , 2. ],\n",
       "        [2. , 2. , 2. ],\n",
       "        [2.1, 2.1, 2.1],\n",
       "        [2.1, 2.1, 2.1],\n",
       "        [2.1, 2.1, 2.1]],\n",
       "\n",
       "       [[2.2, 2.2, 2.2],\n",
       "        [2.2, 2.2, 2.2],\n",
       "        [2.2, 2.2, 2.2],\n",
       "        [2.3, 2.3, 2.3],\n",
       "        [2.3, 2.3, 2.3],\n",
       "        [2.3, 2.3, 2.3],\n",
       "        [3. , 3. , 3. ],\n",
       "        [3. , 3. , 3. ],\n",
       "        [3. , 3. , 3. ]],\n",
       "\n",
       "       [[3.1, 3.1, 3.1],\n",
       "        [3.1, 3.1, 3.1],\n",
       "        [3.1, 3.1, 3.1],\n",
       "        [3.2, 3.2, 3.2],\n",
       "        [3.2, 3.2, 3.2],\n",
       "        [3.2, 3.2, 3.2],\n",
       "        [3.3, 3.3, 3.3],\n",
       "        [3.3, 3.3, 3.3],\n",
       "        [3.3, 3.3, 3.3]]])"
      ]
     },
     "execution_count": 136,
     "metadata": {},
     "output_type": "execute_result"
    }
   ],
   "source": [
    "train_X.reshape(-1, 9, 3)"
   ]
  },
  {
   "cell_type": "markdown",
   "metadata": {},
   "source": [
    "## Custom Dataset for torch DataLoader\n",
    "We need a custom data loader class to convert the above \n",
    "trainX, trainY and testX, testY arrays into a torch DataSet.\n",
    "This is to make use of torch.DataLoader for easy loading of data in batches for training."
   ]
  },
  {
   "cell_type": "code",
   "execution_count": 3,
   "metadata": {
    "scrolled": true
   },
   "outputs": [],
   "source": [
    "class HARDataset(Dataset):\n",
    "    def __init__(self, X, y, transform=None):\n",
    "        self.X = X\n",
    "        self.y = y\n",
    "        self.Transform = transform\n",
    "\n",
    "    def __getitem__(self, index):\n",
    "        x, y = self.X[index], self.y[index]\n",
    "        if self.Transform:\n",
    "            return self.Transform(x), y\n",
    "        else:\n",
    "            return x, y\n",
    "\n",
    "    def __len__(self):\n",
    "        return len(self.X)"
   ]
  },
  {
   "cell_type": "markdown",
   "metadata": {},
   "source": [
    "### Test the HARDataset"
   ]
  },
  {
   "cell_type": "code",
   "execution_count": 97,
   "metadata": {
    "scrolled": false
   },
   "outputs": [
    {
     "name": "stdout",
     "output_type": "stream",
     "text": [
      "Num Training samples:  7352\n",
      "Num Testing samples: 2947\n"
     ]
    }
   ],
   "source": [
    "# Create torch datasets and data loaders for train and test\n",
    "train_set = HARDataset(train_X, train_y)\n",
    "test_set = HARDataset(test_X, test_y)\n",
    "\n",
    "train_loader = torch.utils.data.DataLoader(train_set, batch_size=32, shuffle=True)\n",
    "test_loader = torch.utils.data.DataLoader(test_set, batch_size=32, shuffle=True)\n",
    "\n",
    "print(\"Num Training samples: \", len(train_loader.dataset))\n",
    "print(\"Num Testing samples:\", len(test_loader.dataset))\n"
   ]
  },
  {
   "cell_type": "code",
   "execution_count": 107,
   "metadata": {},
   "outputs": [
    {
     "data": {
      "text/plain": [
       "0.40216517638279337"
      ]
     },
     "execution_count": 107,
     "metadata": {},
     "output_type": "execute_result"
    }
   ],
   "source": [
    "train_X.std()"
   ]
  },
  {
   "cell_type": "markdown",
   "metadata": {},
   "source": [
    "# Training and evaluating the model\n",
    "\n",
    "We are going to evaluate various models with various hyper-parameters.\n",
    "For this, let's define a framework to make it easy for us to iterate.\n",
    "\n",
    "Below, we define a class called `Experiment` and we create objects of this class to run our experiments.\n",
    "\n",
    "A simple example is\n",
    "\n",
    "```\n",
    "# create a network object\n",
    "net = CNN_1D_Model()\n",
    "\n",
    "# define the configurations for the experiment\n",
    "config = dict(\n",
    "    repeats = 2,\n",
    "    epochs_per_repeat = 50,\n",
    "    lr = 0.001,\n",
    "    batch_size = 32\n",
    ")\n",
    "\n",
    "# create the experiment object\n",
    "experiment = Experiment(net, config)\n",
    "\n",
    "# run the experiment.\n",
    "experiment.run()\n",
    "\n",
    "```\n"
   ]
  },
  {
   "cell_type": "code",
   "execution_count": 4,
   "metadata": {},
   "outputs": [],
   "source": [
    "class Experiment:\n",
    "    def __init__(self, net, config):\n",
    "        self.net = net\n",
    "        self.config = config\n",
    "        self.best_predictions = torch.empty(0)\n",
    "        self.actuals = torch.empty(0)\n",
    "        self.best_score = 0.0\n",
    "        self.labels=[]\n",
    "        \n",
    "        \n",
    "    '''\n",
    "        Function to update the config.\n",
    "        Should be called by the experimenter is config needs to be \n",
    "        updated between experiment runs.\n",
    "    '''\n",
    "    def update_config(self, config):\n",
    "        self.config = config\n",
    "    \n",
    "    '''\n",
    "        Trains the network for n epochs and returns an accuracy score\n",
    "    '''\n",
    "    def train_and_evaluate(self, train_loader, test_loader):\n",
    "        \n",
    "        # Get all the config parameters\n",
    "        net = self.net\n",
    "        net.apply(self.reset_net_weights)\n",
    "        lr = self.config.get(\"lr\", 0.01)\n",
    "        batch_size = self.config.get(\"batch_size\", 32)\n",
    "        epochs = self.config.get(\"epochs_per_repeat\",10)\n",
    "        seq_dim = self.config.get(\"seq_dim\", None)\n",
    "        input_dim = self.config.get(\"input_dim\", None)\n",
    "                \n",
    "        # Set the network object for training\n",
    "        #net = net.float()\n",
    "        #net.train()\n",
    "        # Create the optimiser\n",
    "        optimiser = optim.Adam(net.parameters(), lr=lr)\n",
    "        loss_fn = nn.CrossEntropyLoss()\n",
    "        train_size = len(train_loader.dataset)\n",
    "        test_size = len(test_loader.dataset)\n",
    "\n",
    "        for epoch in range(epochs):\n",
    "            net.train()\n",
    "            correct = 0\n",
    "            for index, (X, y) in enumerate(train_loader):\n",
    "                X, y = X.float(), y.long().squeeze()\n",
    "                X = X.view(-1, seq_dim, input_dim)\n",
    "                y_hat, logits = net(X)\n",
    "                loss = loss_fn(logits, y)\n",
    "                \n",
    "                optimiser.zero_grad()\n",
    "                loss.backward()\n",
    "                optimiser.step()\n",
    "                #predicted = torch.argmax(y_hat.data,1)\n",
    "                #correct += (predicted == y).sum()\n",
    "\n",
    "            #acc_train = float(correct) * 100.0 / train_size\n",
    "                \n",
    "        # Evaluation\n",
    "        net.train(False)\n",
    "        predictions = torch.empty(0)\n",
    "        actuals = torch.empty(0)\n",
    "        with torch.no_grad():\n",
    "            correct, total = 0, 0\n",
    "            for X, y in test_loader:\n",
    "                X, y = X.float(), y.long().squeeze()\n",
    "                X = X.view(-1, seq_dim, input_dim)\n",
    "                y_hat, logits = net(X)\n",
    "                \n",
    "                predicted = torch.argmax(y_hat.data,1)\n",
    "                predictions = torch.cat((predictions.float(), predicted.float()),0) \n",
    "                actuals = torch.cat((actuals.float(), y.float()), 0)\n",
    "                total += y.size(0)\n",
    "#                 print(predicted)\n",
    "#                 print(y)\n",
    "#                 print(predicted == y)\n",
    "                correct += (predicted.numpy() == y.numpy()).sum()\n",
    "        accuracy = correct * 100. / test_size\n",
    "        if accuracy > self.best_score:\n",
    "            self.best_score = accuracy\n",
    "            self.best_predictions = predictions\n",
    "            self.actuals = actuals\n",
    "        return accuracy.item()\n",
    "\n",
    "    \n",
    "    def reset_net_weights(self, m):\n",
    "        if isinstance(m, nn.Conv2d) or isinstance(m, nn.Conv1d) or isinstance(m, nn.Linear):\n",
    "            torch.nn.init.xavier_uniform_(m.weight.data)\n",
    "    \n",
    "    '''\n",
    "        summarize scores\n",
    "    '''\n",
    "    def summarize_results(self):\n",
    "        m, s = np.mean(self.scores), np.std(self.scores)\n",
    "        repeats = self.config.get(\"repeats\", 10)\n",
    "        print('Accuracy over {0} trials: {1:.3f}% (+/-{2:.3f})'.format(repeats, m, s))\n",
    "        \n",
    "        # confusion matrix for best scores\n",
    "        conf_matrix = confusion_matrix(self.actuals, self.best_predictions)\n",
    "        df_cm = pd.DataFrame(conf_matrix, index = self.labels, columns = self.labels)\n",
    "        plt.figure(figsize = (10,7))\n",
    "        plt.title('Confusion Matrix For Best Run', fontsize=20)\n",
    "        sns.heatmap(df_cm, annot=True, fmt='g')\n",
    "        plt.show()\n",
    "        self._plot(self.scores)\n",
    "\n",
    "    # helper function to plot scores\n",
    "    def _plot(self, data):\n",
    "        plt.figure(figsize = (10,7))\n",
    "        sns.lineplot(range(1, len(data) + 1), data)\n",
    "        \n",
    "        plt.xlabel('Repeats', fontsize=14)\n",
    "        plt.ylabel('Accuracy(%)', fontsize=14)\n",
    "        plt.title('Test Accuracy', fontsize=20)\n",
    "        plt.show()\n",
    "\n",
    "    ''' \n",
    "        Run the experiment\n",
    "    '''\n",
    "    def run(self):\n",
    "        \n",
    "        # load data\n",
    "        har_dataloader = HARDataLoader('./UCI_HAR_Dataset')\n",
    "        train_X, train_y = har_dataloader.load_dataset(train_test='train') \n",
    "        test_X, test_y = har_dataloader.load_dataset(train_test='test')\n",
    "        self.labels = har_dataloader.load_labels()\n",
    "\n",
    "        # repeat experiment\n",
    "        self.scores = list()\n",
    "        repeats = self.config.get(\"repeats\", 10)\n",
    "        batch_size = self.config.get(\"batch_size\", 32)\n",
    "        for r in range(repeats):\n",
    "            # Create the data loaders\n",
    "            train_set = HARDataset(train_X, train_y)\n",
    "            test_set = HARDataset(test_X, test_y)\n",
    "            train_loader = torch.utils.data.DataLoader(train_set, batch_size=batch_size, shuffle=True)\n",
    "            test_loader = torch.utils.data.DataLoader(test_set, batch_size=batch_size, shuffle=True)\n",
    "\n",
    "            # train and evaluate the model\n",
    "            score = self.train_and_evaluate(train_loader, test_loader)\n",
    "            print('#{0}: {1:.3f}'.format(r+1, score))\n",
    "            self.scores.append(score)\n",
    "        # summarize results\n",
    "        self.summarize_results()"
   ]
  },
  {
   "cell_type": "code",
   "execution_count": 330,
   "metadata": {},
   "outputs": [
    {
     "data": {
      "text/plain": [
       "45.80929946899414"
      ]
     },
     "execution_count": 330,
     "metadata": {},
     "output_type": "execute_result"
    }
   ],
   "source": [
    "experiment.scores[0].item()"
   ]
  },
  {
   "cell_type": "code",
   "execution_count": 287,
   "metadata": {},
   "outputs": [
    {
     "data": {
      "text/plain": [
       "tensor([5, 3, 5,  ..., 0, 1, 1], dtype=torch.int32)"
      ]
     },
     "execution_count": 287,
     "metadata": {},
     "output_type": "execute_result"
    }
   ],
   "source": [
    "experiment.actuals.int()"
   ]
  },
  {
   "cell_type": "code",
   "execution_count": 288,
   "metadata": {},
   "outputs": [
    {
     "data": {
      "text/plain": [
       "tensor([5, 5, 5,  ..., 0, 1, 0], dtype=torch.int32)"
      ]
     },
     "execution_count": 288,
     "metadata": {},
     "output_type": "execute_result"
    }
   ],
   "source": [
    "experiment.best_predictions.int()"
   ]
  },
  {
   "cell_type": "code",
   "execution_count": 289,
   "metadata": {
    "scrolled": true
   },
   "outputs": [
    {
     "data": {
      "text/html": [
       "<div>\n",
       "<style scoped>\n",
       "    .dataframe tbody tr th:only-of-type {\n",
       "        vertical-align: middle;\n",
       "    }\n",
       "\n",
       "    .dataframe tbody tr th {\n",
       "        vertical-align: top;\n",
       "    }\n",
       "\n",
       "    .dataframe thead th {\n",
       "        text-align: right;\n",
       "    }\n",
       "</style>\n",
       "<table border=\"1\" class=\"dataframe\">\n",
       "  <thead>\n",
       "    <tr style=\"text-align: right;\">\n",
       "      <th></th>\n",
       "      <th>WALKING</th>\n",
       "      <th>WALKING_UPSTAIRS</th>\n",
       "      <th>WALKING_DOWNSTAIRS</th>\n",
       "      <th>SITTING</th>\n",
       "      <th>STANDING</th>\n",
       "      <th>LAYING</th>\n",
       "    </tr>\n",
       "  </thead>\n",
       "  <tbody>\n",
       "    <tr>\n",
       "      <th>WALKING</th>\n",
       "      <td>476</td>\n",
       "      <td>0</td>\n",
       "      <td>0</td>\n",
       "      <td>0</td>\n",
       "      <td>0</td>\n",
       "      <td>20</td>\n",
       "    </tr>\n",
       "    <tr>\n",
       "      <th>WALKING_UPSTAIRS</th>\n",
       "      <td>12</td>\n",
       "      <td>412</td>\n",
       "      <td>0</td>\n",
       "      <td>0</td>\n",
       "      <td>0</td>\n",
       "      <td>47</td>\n",
       "    </tr>\n",
       "    <tr>\n",
       "      <th>WALKING_DOWNSTAIRS</th>\n",
       "      <td>17</td>\n",
       "      <td>0</td>\n",
       "      <td>0</td>\n",
       "      <td>0</td>\n",
       "      <td>0</td>\n",
       "      <td>403</td>\n",
       "    </tr>\n",
       "    <tr>\n",
       "      <th>SITTING</th>\n",
       "      <td>1</td>\n",
       "      <td>9</td>\n",
       "      <td>0</td>\n",
       "      <td>0</td>\n",
       "      <td>133</td>\n",
       "      <td>348</td>\n",
       "    </tr>\n",
       "    <tr>\n",
       "      <th>STANDING</th>\n",
       "      <td>0</td>\n",
       "      <td>0</td>\n",
       "      <td>0</td>\n",
       "      <td>0</td>\n",
       "      <td>482</td>\n",
       "      <td>50</td>\n",
       "    </tr>\n",
       "    <tr>\n",
       "      <th>LAYING</th>\n",
       "      <td>0</td>\n",
       "      <td>27</td>\n",
       "      <td>0</td>\n",
       "      <td>0</td>\n",
       "      <td>0</td>\n",
       "      <td>510</td>\n",
       "    </tr>\n",
       "  </tbody>\n",
       "</table>\n",
       "</div>"
      ],
      "text/plain": [
       "                    WALKING  WALKING_UPSTAIRS  WALKING_DOWNSTAIRS  SITTING  \\\n",
       "WALKING                 476                 0                   0        0   \n",
       "WALKING_UPSTAIRS         12               412                   0        0   \n",
       "WALKING_DOWNSTAIRS       17                 0                   0        0   \n",
       "SITTING                   1                 9                   0        0   \n",
       "STANDING                  0                 0                   0        0   \n",
       "LAYING                    0                27                   0        0   \n",
       "\n",
       "                    STANDING  LAYING  \n",
       "WALKING                    0      20  \n",
       "WALKING_UPSTAIRS           0      47  \n",
       "WALKING_DOWNSTAIRS         0     403  \n",
       "SITTING                  133     348  \n",
       "STANDING                 482      50  \n",
       "LAYING                     0     510  "
      ]
     },
     "execution_count": 289,
     "metadata": {},
     "output_type": "execute_result"
    }
   ],
   "source": [
    "conf_matrix = confusion_matrix(experiment.actuals, experiment.best_predictions)\n",
    "df_cm = pd.DataFrame(conf_matrix, index = experiment.labels, columns = experiment.labels)\n",
    "df_cm"
   ]
  },
  {
   "cell_type": "code",
   "execution_count": 120,
   "metadata": {},
   "outputs": [
    {
     "data": {
      "text/html": [
       "<div>\n",
       "<style scoped>\n",
       "    .dataframe tbody tr th:only-of-type {\n",
       "        vertical-align: middle;\n",
       "    }\n",
       "\n",
       "    .dataframe tbody tr th {\n",
       "        vertical-align: top;\n",
       "    }\n",
       "\n",
       "    .dataframe thead th {\n",
       "        text-align: right;\n",
       "    }\n",
       "</style>\n",
       "<table border=\"1\" class=\"dataframe\">\n",
       "  <thead>\n",
       "    <tr style=\"text-align: right;\">\n",
       "      <th></th>\n",
       "      <th>0</th>\n",
       "      <th>1</th>\n",
       "      <th>2</th>\n",
       "    </tr>\n",
       "  </thead>\n",
       "  <tbody>\n",
       "    <tr>\n",
       "      <th>0</th>\n",
       "      <td>2</td>\n",
       "      <td>0</td>\n",
       "      <td>1</td>\n",
       "    </tr>\n",
       "    <tr>\n",
       "      <th>1</th>\n",
       "      <td>0</td>\n",
       "      <td>2</td>\n",
       "      <td>1</td>\n",
       "    </tr>\n",
       "    <tr>\n",
       "      <th>2</th>\n",
       "      <td>0</td>\n",
       "      <td>1</td>\n",
       "      <td>2</td>\n",
       "    </tr>\n",
       "  </tbody>\n",
       "</table>\n",
       "</div>"
      ],
      "text/plain": [
       "   0  1  2\n",
       "0  2  0  1\n",
       "1  0  2  1\n",
       "2  0  1  2"
      ]
     },
     "execution_count": 120,
     "metadata": {},
     "output_type": "execute_result"
    }
   ],
   "source": [
    "actuals =     np.array([0,0,0, 1,1,1, 2,2,2])\n",
    "predictions = np.array([2,0,0, 2,1,1, 1,2,2])\n",
    "conf_matrix = confusion_matrix(actuals, predictions)\n",
    "df_cm = pd.DataFrame(conf_matrix, index = [0,1,2], columns = [0,1,2])\n",
    "df_cm"
   ]
  },
  {
   "cell_type": "markdown",
   "metadata": {},
   "source": [
    "# CNN Model 1\n",
    "\n",
    "Let's define the first CNN model with 1D conv layers as used in the article.\n",
    "The network architecture is:\n",
    "\n",
    "`Conv1D -> Conv1D -> Dropout -> MaxPool -> FullyConnected -> FullyConnected -> Softmax`"
   ]
  },
  {
   "cell_type": "code",
   "execution_count": 5,
   "metadata": {
    "scrolled": true
   },
   "outputs": [],
   "source": [
    "class CNN_1D_Model(nn.Module):\n",
    "    def __init__(self):\n",
    "        super().__init__()\n",
    "        self.conv1 = nn.Conv1d(in_channels=9, out_channels=64, kernel_size=3, stride=1)\n",
    "        self.conv2 = nn.Conv1d(in_channels=64, out_channels=64, kernel_size=3, stride=1)\n",
    "        self.dropout1 = nn.Dropout(p=0.5)\n",
    "        self.max_pool1 = nn.MaxPool1d(kernel_size=2)\n",
    "        self.fc1 = nn.Linear(in_features=64*62, out_features=100)\n",
    "        self.fc2 = nn.Linear(in_features=100, out_features=6)\n",
    "        \n",
    "    def forward(self, x):\n",
    "        # expected shape of x is (1, 9, 128)\n",
    "        x = self.conv1(x)\n",
    "        x = F.relu(x)\n",
    "        # shape of x now is (1, 64, 126)\n",
    "        x = self.conv2(x)\n",
    "        x = F.relu(x)\n",
    "        # shape of x now is (1, 64, 124)\n",
    "        \n",
    "        # Dropout\n",
    "        x = self.dropout1(x)\n",
    "        # shape of x now is (1, 64, 124)\n",
    "        \n",
    "        # MaxPool\n",
    "        x = self.max_pool1(x)\n",
    "        # shape of x now is (1, 64, 62)\n",
    "        \n",
    "        # Flatten\n",
    "        #x = torch.flatten(x)\n",
    "        x = x.view(-1, 3968)\n",
    "        # shape of x now is (3968)\n",
    "        #print(x.shape)\n",
    "        \n",
    "        # Fully connected (Dense layers)\n",
    "        x = self.fc1(x)\n",
    "        x = F.relu(x)\n",
    "        # shape of x now is (100)\n",
    "        x = self.fc2(x)\n",
    "        x = F.relu(x)\n",
    "        # shape of x now is (6)\n",
    "        \n",
    "        # apply softmax\n",
    "        y_hat = F.softmax(x, dim=1)\n",
    "        return (y_hat, x)"
   ]
  },
  {
   "cell_type": "code",
   "execution_count": 275,
   "metadata": {},
   "outputs": [
    {
     "name": "stdout",
     "output_type": "stream",
     "text": [
      "tensor([[0.1632, 0.1754, 0.1632, 0.1632, 0.1716, 0.1632],\n",
      "        [0.1641, 0.1641, 0.1641, 0.1678, 0.1758, 0.1641],\n",
      "        [0.1630, 0.1712, 0.1630, 0.1672, 0.1726, 0.1630],\n",
      "        [0.1635, 0.1677, 0.1635, 0.1669, 0.1750, 0.1635],\n",
      "        [0.1648, 0.1707, 0.1648, 0.1648, 0.1702, 0.1648]],\n",
      "       grad_fn=<SoftmaxBackward>)\n",
      "tensor([[0.0000, 0.0720, 0.0000, 0.0000, 0.0500, 0.0000],\n",
      "        [0.0000, 0.0000, 0.0000, 0.0227, 0.0690, 0.0000],\n",
      "        [0.0000, 0.0487, 0.0000, 0.0251, 0.0572, 0.0000],\n",
      "        [0.0000, 0.0255, 0.0000, 0.0205, 0.0684, 0.0000],\n",
      "        [0.0000, 0.0354, 0.0000, 0.0000, 0.0325, 0.0000]],\n",
      "       grad_fn=<ReluBackward0>)\n",
      "tensor([1., 1., 1., 1., 1.])\n"
     ]
    },
    {
     "data": {
      "text/plain": [
       "tensor(1.7886, grad_fn=<NllLossBackward>)"
      ]
     },
     "execution_count": 275,
     "metadata": {},
     "output_type": "execute_result"
    }
   ],
   "source": [
    "net = CNN_1D_Model()\n",
    "input = torch.rand(5,9,128)\n",
    "out, logits = net(input)\n",
    "print(out)\n",
    "print(logits)\n",
    "\n",
    "loss_fn = nn.CrossEntropyLoss()\n",
    "y = torch.Tensor([1,1,1,1,1])\n",
    "print(y)\n",
    "loss_fn(out,y.long())\n"
   ]
  },
  {
   "cell_type": "code",
   "execution_count": 311,
   "metadata": {
    "scrolled": true
   },
   "outputs": [
    {
     "name": "stdout",
     "output_type": "stream",
     "text": [
      "tensor([1, 4, 4, 4, 1])\n"
     ]
    },
    {
     "data": {
      "text/plain": [
       "tensor([ True, False, False, False,  True])"
      ]
     },
     "execution_count": 311,
     "metadata": {},
     "output_type": "execute_result"
    }
   ],
   "source": [
    "print(torch.argmax(out.data,1))\n",
    "y==torch.argmax(out.data,1)"
   ]
  },
  {
   "cell_type": "code",
   "execution_count": 6,
   "metadata": {
    "scrolled": false
   },
   "outputs": [
    {
     "name": "stdout",
     "output_type": "stream",
     "text": [
      "#1: 75.738\n",
      "Accuracy over 1 trials: 75.738% (+/-0.000)\n"
     ]
    },
    {
     "data": {
      "image/png": "[encoded data removed]",
      "text/plain": [
       "<Figure size 720x504 with 2 Axes>"
      ]
     },
     "metadata": {
      "needs_background": "light"
     },
     "output_type": "display_data"
    },
    {
     "data": {
      "image/png": "[encoded data removed]",
      "text/plain": [
       "<Figure size 720x504 with 1 Axes>"
      ]
     },
     "metadata": {
      "needs_background": "light"
     },
     "output_type": "display_data"
    }
   ],
   "source": [
    "net = CNN_1D_Model()\n",
    "config = dict(\n",
    "    repeats = 1,\n",
    "    epochs_per_repeat = 10,\n",
    "    lr = 0.001,\n",
    "    batch_size = 32,\n",
    "    seq_dim = 9, # channels\n",
    "    input_dim = 128\n",
    ")\n",
    "experiment = Experiment(net, config)\n",
    "experiment.run()"
   ]
  },
  {
   "cell_type": "code",
   "execution_count": 324,
   "metadata": {},
   "outputs": [
    {
     "data": {
      "text/plain": [
       "[tensor(45.8093)]"
      ]
     },
     "execution_count": 324,
     "metadata": {},
     "output_type": "execute_result"
    }
   ],
   "source": [
    "experiment.scores"
   ]
  },
  {
   "cell_type": "markdown",
   "metadata": {},
   "source": [
    "### Update the model with kernel size 5"
   ]
  },
  {
   "cell_type": "code",
   "execution_count": null,
   "metadata": {},
   "outputs": [],
   "source": [
    "class CNN_1D_Model_Kernel5(nn.Module):\n",
    "    def __init__(self):\n",
    "        super().__init__()\n",
    "        self.conv1 = nn.Conv1d(in_channels=9, out_channels=64, kernel_size=5, stride=1)\n",
    "        self.conv2 = nn.Conv1d(in_channels=64, out_channels=64, kernel_size=5, stride=1)\n",
    "        self.dropout1 = nn.Dropout(p=0.5)\n",
    "        self.max_pool1 = nn.MaxPool1d(kernel_size=2)\n",
    "        self.fc1 = nn.Linear(in_features=64*60, out_features=100)\n",
    "        self.fc2 = nn.Linear(in_features=100, out_features=6)\n",
    "        \n",
    "    def forward(self, x):\n",
    "        # expected shape of x is (1, 9, 128)\n",
    "        x = self.conv1(x)\n",
    "        x = F.relu(x)\n",
    "        \n",
    "        # shape of x now is (1, 64, 124)\n",
    "        x = self.conv2(x)\n",
    "        x = F.relu(x)\n",
    "        # shape of x now is (1, 64, 120)\n",
    "        \n",
    "        # Dropout\n",
    "        x = self.dropout1(x)\n",
    "        # shape of x now is (1, 64, 120)\n",
    "        \n",
    "        # MaxPool\n",
    "        x = self.max_pool1(x)\n",
    "        # shape of x now is (1, 64, 60)\n",
    "        \n",
    "        # Flatten\n",
    "        #x = torch.flatten(x)\n",
    "        x = x.view(-1, 3840)\n",
    "        # shape of x now is (3840)\n",
    "        #print(x.shape)\n",
    "        \n",
    "        # Fully connected (Dense layers)\n",
    "        x = self.fc1(x)\n",
    "        x = F.relu(x)\n",
    "        # shape of x now is (100)\n",
    "        x = self.fc2(x)\n",
    "        x = F.relu(x)\n",
    "        # shape of x now is (6)\n",
    "        \n",
    "        # apply softmax\n",
    "        y_hat = F.softmax(x, dim=1)\n",
    "        return y_hat"
   ]
  },
  {
   "cell_type": "code",
   "execution_count": null,
   "metadata": {
    "scrolled": true
   },
   "outputs": [],
   "source": [
    "net = CNN_1D_Model_Kernel5()\n",
    "config = dict(\n",
    "    repeats = 10,\n",
    "    epochs_per_repeat = 50,\n",
    "    lr = 0.001,\n",
    "    batch_size = 32,\n",
    "    seq_dim = 9, # channels\n",
    "    input_dim = 128\n",
    ")\n",
    "experiment = Experiment(net, config)\n",
    "experiment.run()"
   ]
  },
  {
   "cell_type": "markdown",
   "metadata": {},
   "source": [
    "# LSTM Model"
   ]
  },
  {
   "cell_type": "code",
   "execution_count": 17,
   "metadata": {},
   "outputs": [],
   "source": [
    "class LSTMModel(nn.Module):\n",
    "    def __init__(self, input_dim, hidden_dim, layer_dim, output_dim):\n",
    "        super(LSTMModel, self).__init__()\n",
    "        # Hidden dimensions\n",
    "        self.hidden_dim = hidden_dim\n",
    "\n",
    "        # Number of hidden layers\n",
    "        self.layer_dim = layer_dim\n",
    "\n",
    "        # Building your LSTM\n",
    "        # batch_first=True causes input/output tensors to be of shape\n",
    "        # (batch_dim, seq_dim, feature_dim)\n",
    "        self.lstm = nn.LSTM(input_dim, hidden_dim, layer_dim, batch_first=True)\n",
    "\n",
    "        # Readout layer\n",
    "        self.fc = nn.Linear(hidden_dim, output_dim)\n",
    "\n",
    "    def forward(self, x):\n",
    "        # Initialize hidden state with zeros\n",
    "        h0 = torch.zeros(self.layer_dim, x.size(0), self.hidden_dim).requires_grad_()\n",
    "\n",
    "        # Initialize cell state\n",
    "        c0 = torch.zeros(self.layer_dim, x.size(0), self.hidden_dim).requires_grad_()\n",
    "\n",
    "        # 28 time steps\n",
    "        # We need to detach as we are doing truncated backpropagation through time (BPTT)\n",
    "        # If we don't, we'll backprop all the way to the start even after going through another batch\n",
    "        out, (hn, cn) = self.lstm(x, (h0.detach(), c0.detach()))\n",
    "\n",
    "        # Index hidden state of last time step\n",
    "        # out.size() --> 100, 28, 100\n",
    "        # out[:, -1, :] --> 100, 100 --> just want last time step hidden states! \n",
    "        out = self.fc(out[:, -1, :]) \n",
    "        # out.size() --> 100, 10\n",
    "        return out"
   ]
  },
  {
   "cell_type": "code",
   "execution_count": null,
   "metadata": {},
   "outputs": [],
   "source": []
  },
  {
   "cell_type": "code",
   "execution_count": 20,
   "metadata": {},
   "outputs": [
    {
     "name": "stdout",
     "output_type": "stream",
     "text": [
      "#1: 87.852\n",
      "Accuracy over 1 trials: 87.852% (+/-0.000)\n"
     ]
    },
    {
     "data": {
      "image/png": "[encoded data removed]",
      "text/plain": [
       "<Figure size 720x504 with 2 Axes>"
      ]
     },
     "metadata": {
      "needs_background": "light"
     },
     "output_type": "display_data"
    },
    {
     "data": {
      "image/png": "[encoded data removed]",
      "text/plain": [
       "<Figure size 720x504 with 1 Axes>"
      ]
     },
     "metadata": {
      "needs_background": "light"
     },
     "output_type": "display_data"
    }
   ],
   "source": [
    "input_dim = 9\n",
    "hidden_dim = 100\n",
    "layer_dim = 1\n",
    "output_dim = 6\n",
    "\n",
    "net = LSTMModel(input_dim, hidden_dim, layer_dim, output_dim)\n",
    "\n",
    "config = dict(\n",
    "    repeats = 1,\n",
    "    epochs_per_repeat = 5,\n",
    "    lr = 0.01,\n",
    "    batch_size = 32,\n",
    "    seq_dim = 128, # number of timesteps in the input\n",
    "    input_dim = input_dim # number of rows in the input\n",
    ")\n",
    "experiment = Experiment(net, config)\n",
    "experiment.run()"
   ]
  },
  {
   "cell_type": "code",
   "execution_count": 91,
   "metadata": {},
   "outputs": [],
   "source": [
    "dl = HARDataLoader('./UCI_HAR_Dataset')\n",
    "\n",
    "# Load the dataset\n",
    "train_X, train_y = dl.load_dataset(train_test='train') \n",
    "test_X, test_y = dl.load_dataset(train_test='test')\n"
   ]
  },
  {
   "cell_type": "code",
   "execution_count": 96,
   "metadata": {},
   "outputs": [
    {
     "data": {
      "text/plain": [
       "(array([1226, 1073,  986, 1286, 1374, 1407]), array([0, 1, 2, 3, 4, 5, 6]))"
      ]
     },
     "execution_count": 96,
     "metadata": {},
     "output_type": "execute_result"
    }
   ],
   "source": [
    "np.histogram(train_y, bins=[0,1,2,3,4,5,6])"
   ]
  },
  {
   "cell_type": "code",
   "execution_count": 82,
   "metadata": {
    "scrolled": true
   },
   "outputs": [
    {
     "data": {
      "text/plain": [
       "(array([1226., 1073.,  986., 1286., 1374., 1407.]),\n",
       " array([1, 2, 3, 4, 5, 6, 7]),\n",
       " <a list of 6 Patch objects>)"
      ]
     },
     "execution_count": 82,
     "metadata": {},
     "output_type": "execute_result"
    },
    {
     "data": {
      "image/png": "[encoded data removed]",
      "text/plain": [
       "<Figure size 432x288 with 1 Axes>"
      ]
     },
     "metadata": {
      "needs_background": "light"
     },
     "output_type": "display_data"
    }
   ],
   "source": [
    "plt.hist(df_y[0], rwidth=2, bins=[1,2,3,4,5,6,7], range=(1,6))"
   ]
  },
  {
   "cell_type": "code",
   "execution_count": 57,
   "metadata": {},
   "outputs": [],
   "source": [
    "df_y = pd.read_csv('/home/reg/Reg-Dev/workshop/human_activity_recognition/UCI_HAR_Dataset/train/y_train.txt', header=None, delim_whitespace=True)"
   ]
  },
  {
   "cell_type": "code",
   "execution_count": 59,
   "metadata": {
    "scrolled": true
   },
   "outputs": [
    {
     "data": {
      "text/plain": [
       "array([[<matplotlib.axes._subplots.AxesSubplot object at 0x7f25f21fc080>]],\n",
       "      dtype=object)"
      ]
     },
     "execution_count": 59,
     "metadata": {},
     "output_type": "execute_result"
    },
    {
     "data": {
      "image/png": "[encoded data removed]",
      "text/plain": [
       "<Figure size 432x288 with 1 Axes>"
      ]
     },
     "metadata": {
      "needs_background": "light"
     },
     "output_type": "display_data"
    }
   ],
   "source": [
    "df_y.hist()"
   ]
  },
  {
   "cell_type": "code",
   "execution_count": 66,
   "metadata": {},
   "outputs": [
    {
     "data": {
      "text/plain": [
       "array([[<matplotlib.axes._subplots.AxesSubplot object at 0x7f25f1f9bbe0>]],\n",
       "      dtype=object)"
      ]
     },
     "execution_count": 66,
     "metadata": {},
     "output_type": "execute_result"
    },
    {
     "data": {
      "image/png": "[encoded data removed]",
      "text/plain": [
       "<Figure size 432x288 with 1 Axes>"
      ]
     },
     "metadata": {
      "needs_background": "light"
     },
     "output_type": "display_data"
    }
   ],
   "source": [
    "df_y.hist()"
   ]
  },
  {
   "cell_type": "code",
   "execution_count": 78,
   "metadata": {},
   "outputs": [],
   "source": [
    "df_y = df_y.astype(int)"
   ]
  },
  {
   "cell_type": "code",
   "execution_count": 88,
   "metadata": {},
   "outputs": [
    {
     "data": {
      "text/html": [
       "<div>\n",
       "<style scoped>\n",
       "    .dataframe tbody tr th:only-of-type {\n",
       "        vertical-align: middle;\n",
       "    }\n",
       "\n",
       "    .dataframe tbody tr th {\n",
       "        vertical-align: top;\n",
       "    }\n",
       "\n",
       "    .dataframe thead th {\n",
       "        text-align: right;\n",
       "    }\n",
       "</style>\n",
       "<table border=\"1\" class=\"dataframe\">\n",
       "  <thead>\n",
       "    <tr style=\"text-align: right;\">\n",
       "      <th></th>\n",
       "      <th>0</th>\n",
       "    </tr>\n",
       "  </thead>\n",
       "  <tbody>\n",
       "  </tbody>\n",
       "</table>\n",
       "</div>"
      ],
      "text/plain": [
       "Empty DataFrame\n",
       "Columns: [0]\n",
       "Index: []"
      ]
     },
     "execution_count": 88,
     "metadata": {},
     "output_type": "execute_result"
    }
   ],
   "source": [
    "df_y[df_y[0] == 7]"
   ]
  }
 ],
 "metadata": {
  "kernelspec": {
   "display_name": "human_act_recog",
   "language": "python",
   "name": "human_act_recog"
  },
  "language_info": {
   "codemirror_mode": {
    "name": "ipython",
    "version": 3
   },
   "file_extension": ".py",
   "mimetype": "text/x-python",
   "name": "python",
   "nbconvert_exporter": "python",
   "pygments_lexer": "ipython3",
   "version": "3.6.9"
  }
 },
 "nbformat": 4,
 "nbformat_minor": 2
}
